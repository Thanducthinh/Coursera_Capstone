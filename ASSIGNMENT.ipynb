{
    "cells": [
        {
            "cell_type": "markdown",
            "metadata": {},
            "source": "<h1 align=center><font size = 5>Finding Coffee Shops in Manhattan's Neighborhoods</font></h1>"
        },
        {
            "cell_type": "markdown",
            "metadata": {},
            "source": "## Introduction\n\nTomorrow i'm going to Manhattan Borough, Newyork City for a short trip. As an ardent fan of coffee, i would like to know which neighborhood in Manhattan has the highest number of coffee shops. Knowing this would help me try out as many coffee shops as possible during my short visit.\n\nIn order to do so, i'll first download and tranform the necessary dataset. Then i'll create a plot of all Manhattan's neighborhoods to get familiar with the area. Next, i'll use the **explore** function to get the venue categories in each neighborhood, and then use this information to sort the neighborhoods by the number of coffee shops in each one.\n\nFinally, i'll pick the top neighborhood listed in the final dataframe as the destination to visit."
        },
        {
            "cell_type": "markdown",
            "metadata": {},
            "source": "## Table of Contents\n\n<div class=\"alert alert-block alert-info\" style=\"margin-top: 20px\">\n\n<font size = 3>\n\n1. Download and Transform Dataset\n\n2. Plotting to visualize Manhattan's neighborhoods\n\n3. Use Foursquare to get all neighborhoods' venues information\n\n4. Analyze the neighborhoods to get the number of coffee shops for each one\n   \n</font>\n</div>"
        },
        {
            "cell_type": "markdown",
            "metadata": {},
            "source": "Before we get the data and start exploring it, let's download all the dependencies that we will need."
        },
        {
            "cell_type": "code",
            "execution_count": 1,
            "metadata": {
                "collapsed": false,
                "jupyter": {
                    "outputs_hidden": false
                }
            },
            "outputs": [
                {
                    "name": "stdout",
                    "output_type": "stream",
                    "text": "Libraries imported.\n"
                }
            ],
            "source": "import numpy as np      # library to handle data in a vectorized manner\n\nimport pandas as pd     # library for data analsysis\npd.set_option('display.max_columns', None)\npd.set_option('display.max_rows', None)\n\nimport json             # library to handle JSON files\n\n# Matplotlib and associated plotting modules\nimport matplotlib.cm as cm\nimport matplotlib.colors as colors\n\n# import k-means from clustering stage\nfrom sklearn.cluster import KMeans\n\n\n\n#!conda install -c conda-forge geopy --yes           # uncomment to run this line if you haven't completed the Foursquare API lab\nfrom geopy.geocoders import Nominatim               # convert an address into latitude and longitude values\n\n#!conda install -c conda-forge folium=0.5.0 --yes    # uncomment this line if you haven't completed the Foursquare API lab\nimport folium                                       # map rendering library\n\n\nimport requests                                     # library to handle requests\n#from pandas.io.json import json_normalize           # tranform JSON file into a pandas dataframe\n\n\nprint('Libraries imported.')"
        },
        {
            "cell_type": "markdown",
            "metadata": {},
            "source": "<a id='item1'></a>"
        },
        {
            "cell_type": "markdown",
            "metadata": {},
            "source": "# 1. Download and Transform Dataset"
        },
        {
            "cell_type": "code",
            "execution_count": 2,
            "metadata": {
                "collapsed": false,
                "jupyter": {
                    "outputs_hidden": false
                },
                "scrolled": true
            },
            "outputs": [
                {
                    "name": "stdout",
                    "output_type": "stream",
                    "text": "Data downloaded!\n"
                }
            ],
            "source": "!wget -q -O 'newyork_data.json' https://cocl.us/new_york_dataset\nprint('Data downloaded!')"
        },
        {
            "cell_type": "markdown",
            "metadata": {},
            "source": "## Load and explore the data"
        },
        {
            "cell_type": "markdown",
            "metadata": {},
            "source": "Next, let's load the data."
        },
        {
            "cell_type": "code",
            "execution_count": 3,
            "metadata": {
                "collapsed": false,
                "jupyter": {
                    "outputs_hidden": false
                }
            },
            "outputs": [],
            "source": "with open('newyork_data.json') as dulieu:    # with open() as ... :  #\n    newyork_data = json.load(dulieu)"
        },
        {
            "cell_type": "markdown",
            "metadata": {},
            "source": "Let's take a quick look at the data."
        },
        {
            "cell_type": "code",
            "execution_count": null,
            "metadata": {
                "collapsed": false,
                "jupyter": {
                    "outputs_hidden": false
                }
            },
            "outputs": [],
            "source": "newyork_data"
        },
        {
            "cell_type": "markdown",
            "metadata": {},
            "source": "Notice how all the relevant data is in the *features* key, which is basically a list of the neighborhoods. So, let's define a new variable that includes this data."
        },
        {
            "cell_type": "code",
            "execution_count": 5,
            "metadata": {},
            "outputs": [],
            "source": "neighborhoods_data = newyork_data['features']"
        },
        {
            "cell_type": "markdown",
            "metadata": {},
            "source": "Let's take a look at the first item in this list."
        },
        {
            "cell_type": "code",
            "execution_count": 6,
            "metadata": {
                "collapsed": false,
                "jupyter": {
                    "outputs_hidden": false
                }
            },
            "outputs": [
                {
                    "data": {
                        "text/plain": "{'type': 'Feature',\n 'id': 'nyu_2451_34572.1',\n 'geometry': {'type': 'Point',\n  'coordinates': [-73.84720052054902, 40.89470517661]},\n 'geometry_name': 'geom',\n 'properties': {'name': 'Wakefield',\n  'stacked': 1,\n  'annoline1': 'Wakefield',\n  'annoline2': None,\n  'annoline3': None,\n  'annoangle': 0.0,\n  'borough': 'Bronx',\n  'bbox': [-73.84720052054902,\n   40.89470517661,\n   -73.84720052054902,\n   40.89470517661]}}"
                    },
                    "execution_count": 6,
                    "metadata": {},
                    "output_type": "execute_result"
                }
            ],
            "source": "neighborhoods_data[0]"
        },
        {
            "cell_type": "markdown",
            "metadata": {},
            "source": "## Tranform the data into a *pandas* dataframe"
        },
        {
            "cell_type": "markdown",
            "metadata": {},
            "source": "The next task is essentially transforming this data of nested Python __dictionaries into a *pandas* dataframe__. \n\n__So let's start by creating an empty dataframe.__"
        },
        {
            "cell_type": "code",
            "execution_count": 7,
            "metadata": {},
            "outputs": [],
            "source": "# define the dataframe columns\ncolumn_names = ['Borough', 'Neighborhood', 'Latitude', 'Longitude'] \n\n# instantiate the dataframe\nneighborhoods = pd.DataFrame(columns=column_names)"
        },
        {
            "cell_type": "markdown",
            "metadata": {},
            "source": "Then let's loop through the data and fill the dataframe __one row at a time__."
        },
        {
            "cell_type": "code",
            "execution_count": 9,
            "metadata": {
                "collapsed": false,
                "jupyter": {
                    "outputs_hidden": false
                }
            },
            "outputs": [],
            "source": "for data in neighborhoods_data:\n    #borough = neighborhood_name = data['properties']['borough']   # ???\n    borough = data['properties']['borough'] \n    neighborhood_name = data['properties']['name']\n        \n    neighborhood_latlon = data['geometry']['coordinates']\n    neighborhood_lat = neighborhood_latlon[1]\n    neighborhood_lon = neighborhood_latlon[0]\n    \n    neighborhoods = neighborhoods.append({'Borough': borough,\n                                          'Neighborhood': neighborhood_name,\n                                          'Latitude': neighborhood_lat,\n                                          'Longitude': neighborhood_lon}, ignore_index=True)         "
        },
        {
            "cell_type": "markdown",
            "metadata": {},
            "source": "Quickly examine the resulting dataframe."
        },
        {
            "cell_type": "code",
            "execution_count": 19,
            "metadata": {
                "collapsed": false,
                "jupyter": {
                    "outputs_hidden": false
                },
                "scrolled": true
            },
            "outputs": [
                {
                    "name": "stdout",
                    "output_type": "stream",
                    "text": "(306, 4)\n"
                },
                {
                    "data": {
                        "text/html": "<div>\n<style scoped>\n    .dataframe tbody tr th:only-of-type {\n        vertical-align: middle;\n    }\n\n    .dataframe tbody tr th {\n        vertical-align: top;\n    }\n\n    .dataframe thead th {\n        text-align: right;\n    }\n</style>\n<table border=\"1\" class=\"dataframe\">\n  <thead>\n    <tr style=\"text-align: right;\">\n      <th></th>\n      <th>Borough</th>\n      <th>Neighborhood</th>\n      <th>Latitude</th>\n      <th>Longitude</th>\n    </tr>\n  </thead>\n  <tbody>\n    <tr>\n      <th>0</th>\n      <td>Bronx</td>\n      <td>Wakefield</td>\n      <td>40.894705</td>\n      <td>-73.847201</td>\n    </tr>\n    <tr>\n      <th>1</th>\n      <td>Bronx</td>\n      <td>Co-op City</td>\n      <td>40.874294</td>\n      <td>-73.829939</td>\n    </tr>\n    <tr>\n      <th>2</th>\n      <td>Bronx</td>\n      <td>Eastchester</td>\n      <td>40.887556</td>\n      <td>-73.827806</td>\n    </tr>\n    <tr>\n      <th>3</th>\n      <td>Bronx</td>\n      <td>Fieldston</td>\n      <td>40.895437</td>\n      <td>-73.905643</td>\n    </tr>\n    <tr>\n      <th>4</th>\n      <td>Bronx</td>\n      <td>Riverdale</td>\n      <td>40.890834</td>\n      <td>-73.912585</td>\n    </tr>\n  </tbody>\n</table>\n</div>",
                        "text/plain": "  Borough Neighborhood   Latitude  Longitude\n0   Bronx    Wakefield  40.894705 -73.847201\n1   Bronx   Co-op City  40.874294 -73.829939\n2   Bronx  Eastchester  40.887556 -73.827806\n3   Bronx    Fieldston  40.895437 -73.905643\n4   Bronx    Riverdale  40.890834 -73.912585"
                    },
                    "execution_count": 19,
                    "metadata": {},
                    "output_type": "execute_result"
                }
            ],
            "source": "print(neighborhoods.shape)\nneighborhoods.head()"
        },
        {
            "cell_type": "markdown",
            "metadata": {},
            "source": "\n### Let's __slice__ the original Newyork dataframe and create a new dataframe of the Manhattan data."
        },
        {
            "cell_type": "code",
            "execution_count": 22,
            "metadata": {
                "collapsed": false,
                "jupyter": {
                    "outputs_hidden": false
                }
            },
            "outputs": [
                {
                    "name": "stdout",
                    "output_type": "stream",
                    "text": "(40, 4)\n"
                },
                {
                    "data": {
                        "text/html": "<div>\n<style scoped>\n    .dataframe tbody tr th:only-of-type {\n        vertical-align: middle;\n    }\n\n    .dataframe tbody tr th {\n        vertical-align: top;\n    }\n\n    .dataframe thead th {\n        text-align: right;\n    }\n</style>\n<table border=\"1\" class=\"dataframe\">\n  <thead>\n    <tr style=\"text-align: right;\">\n      <th></th>\n      <th>Borough</th>\n      <th>Neighborhood</th>\n      <th>Latitude</th>\n      <th>Longitude</th>\n    </tr>\n  </thead>\n  <tbody>\n    <tr>\n      <th>0</th>\n      <td>Manhattan</td>\n      <td>Marble Hill</td>\n      <td>40.876551</td>\n      <td>-73.910660</td>\n    </tr>\n    <tr>\n      <th>1</th>\n      <td>Manhattan</td>\n      <td>Chinatown</td>\n      <td>40.715618</td>\n      <td>-73.994279</td>\n    </tr>\n    <tr>\n      <th>2</th>\n      <td>Manhattan</td>\n      <td>Washington Heights</td>\n      <td>40.851903</td>\n      <td>-73.936900</td>\n    </tr>\n    <tr>\n      <th>3</th>\n      <td>Manhattan</td>\n      <td>Inwood</td>\n      <td>40.867684</td>\n      <td>-73.921210</td>\n    </tr>\n    <tr>\n      <th>4</th>\n      <td>Manhattan</td>\n      <td>Hamilton Heights</td>\n      <td>40.823604</td>\n      <td>-73.949688</td>\n    </tr>\n  </tbody>\n</table>\n</div>",
                        "text/plain": "     Borough        Neighborhood   Latitude  Longitude\n0  Manhattan         Marble Hill  40.876551 -73.910660\n1  Manhattan           Chinatown  40.715618 -73.994279\n2  Manhattan  Washington Heights  40.851903 -73.936900\n3  Manhattan              Inwood  40.867684 -73.921210\n4  Manhattan    Hamilton Heights  40.823604 -73.949688"
                    },
                    "execution_count": 22,
                    "metadata": {},
                    "output_type": "execute_result"
                }
            ],
            "source": "manhattan_data = neighborhoods[neighborhoods['Borough'] == 'Manhattan'].reset_index(drop=True)\n\nprint(manhattan_data.shape)\nmanhattan_data.head()"
        },
        {
            "cell_type": "markdown",
            "metadata": {},
            "source": "# 2. Get the geographical coordinates of Manhattan and plot all of its neighborhoods."
        },
        {
            "cell_type": "code",
            "execution_count": 16,
            "metadata": {
                "collapsed": false,
                "jupyter": {
                    "outputs_hidden": false
                }
            },
            "outputs": [
                {
                    "name": "stdout",
                    "output_type": "stream",
                    "text": "The geograpical coordinate of Manhattan are 40.7896239, -73.9598939.\n"
                }
            ],
            "source": "address = 'Manhattan, NY'\n\ngeolocator = Nominatim(user_agent=\"ny_explorer\")\nlocation = geolocator.geocode(address)\n\nlatitude = location.latitude\nlongitude = location.longitude\n\nprint('The geograpical coordinate of Manhattan are {}, {}.'.format(latitude, longitude))"
        },
        {
            "cell_type": "markdown",
            "metadata": {},
            "source": "## Let's visualize Manhattan and all of the neighborhoods in it."
        },
        {
            "cell_type": "code",
            "execution_count": 24,
            "metadata": {
                "collapsed": false,
                "jupyter": {
                    "outputs_hidden": false
                }
            },
            "outputs": [
                {
                    "data": {
                        "text/html": "<div style=\"width:100%;\"><div style=\"position:relative;width:100%;height:0;padding-bottom:60%;\"><span style=\"color:#565656\">Make this Notebook Trusted to load map: File -> Trust Notebook</span><iframe src=\"about:blank\" style=\"position:absolute;width:100%;height:100%;left:0;top:0;border:none !important;\" data-html=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 onload=\"this.contentDocument.open();this.contentDocument.write(atob(this.getAttribute('data-html')));this.contentDocument.close();\" allowfullscreen webkitallowfullscreen mozallowfullscreen></iframe></div></div>",
                        "text/plain": "<folium.folium.Map at 0x7f67c70e3438>"
                    },
                    "execution_count": 24,
                    "metadata": {},
                    "output_type": "execute_result"
                }
            ],
            "source": "# create map of Manhattan using latitude and longitude values\nmap_manhattan = folium.Map(location=[latitude, longitude], zoom_start=11)\n\n# add markers to map\nfor lat, lng, label in zip(manhattan_data['Latitude'], manhattan_data['Longitude'], manhattan_data['Neighborhood']):\n    label = folium.Popup(label, parse_html=True)\n    \n    folium.CircleMarker(\n        [lat, lng],\n        radius=5,\n        popup=label,\n        color='blue',\n        fill=True,\n        fill_color='#3186cc',\n        fill_opacity=0.7,\n        parse_html=False).add_to(map_manhattan)  \n    \nmap_manhattan"
        },
        {
            "cell_type": "markdown",
            "metadata": {},
            "source": "# 3. Utilizing the Foursquare API to explore all neighborhoods' venues information.\n"
        },
        {
            "cell_type": "markdown",
            "metadata": {},
            "source": "<a id='item2'></a>"
        },
        {
            "cell_type": "code",
            "execution_count": 62,
            "metadata": {},
            "outputs": [],
            "source": "import numpy as np\nimport pandas as pd\nimport requests    \n\nCLIENT_ID = 'Q1SRIERBH0HDZQ3JHT2DBQPHHZUNCAKGVOJPRHX0IHOFGCXK' # your Foursquare ID\nCLIENT_SECRET = 'W22UMOKGFOEX0BRKNZ2EBRUXX3CBLB5BWSJS2C0EB3GUCFOL' # your Foursquare Secret\nVERSION = '20180605' # Foursquare API version\nLIMIT=400\n\n# function that extracts the category of the venue\ndef get_category_type(row):\n    try:\n        categories_list = row['categories']\n    except:\n        categories_list = row['venue.categories']\n        \n    if len(categories_list) == 0:\n        return None\n    else:\n        return categories_list[0]['name']\n    \n\n\ndef getNearbyVenues(names, latitudes, longitudes, radius=500):\n    venues_list=[]\n    for name, lat, lng in zip(names, latitudes, longitudes):\n        \n        # create the API request URL\n        url = 'https://api.foursquare.com/v2/venues/explore?&client_id={}&client_secret={}&v={}&ll={},{}&radius={}&limit={}'.format(\n            CLIENT_ID, \n            CLIENT_SECRET, \n            VERSION, \n            lat, \n            lng, \n            radius, \n            LIMIT)\n            \n        # make the GET request\n        results = requests.get(url).json()[\"response\"]['groups'][0]['items']\n        \n        # return only relevant information for each nearby venue\n        venues_list.append([(\n            name, \n            lat, \n            lng, \n            v['venue']['name'], \n            v['venue']['location']['lat'], \n            v['venue']['location']['lng'],  \n            v['venue']['categories'][0]['name']) for v in results])\n\n    nearby_venues = pd.DataFrame([item for venue_list in venues_list for item in venue_list])\n    nearby_venues.columns = ['Neighborhood', \n                  'Latitude', \n                  'Longitude', \n                  'Venue', \n                  'Venue Latitude', \n                  'Venue Longitude', \n                  'Venue Category']\n    \n    return(nearby_venues)"
        },
        {
            "cell_type": "markdown",
            "metadata": {},
            "source": "### Now write the code to run the above function and create a new dataframe called *manhattan_venues*."
        },
        {
            "cell_type": "code",
            "execution_count": 63,
            "metadata": {
                "collapsed": false,
                "jupyter": {
                    "outputs_hidden": false
                },
                "scrolled": true
            },
            "outputs": [],
            "source": "# type your answer here\n\nmanhattan_venues = getNearbyVenues(names=manhattan_data['Neighborhood'],\n                                   latitudes=manhattan_data['Latitude'],\n                                   longitudes=manhattan_data['Longitude']\n                                  )"
        },
        {
            "cell_type": "markdown",
            "metadata": {},
            "source": "# 4. Analyze the neighborhoods to get the number of coffee shops for each one"
        },
        {
            "cell_type": "code",
            "execution_count": 99,
            "metadata": {
                "collapsed": false,
                "jupyter": {
                    "outputs_hidden": false
                }
            },
            "outputs": [
                {
                    "name": "stdout",
                    "output_type": "stream",
                    "text": "(3169, 7)\nUnique Neighborhoods: 40\n"
                },
                {
                    "data": {
                        "text/html": "<div>\n<style scoped>\n    .dataframe tbody tr th:only-of-type {\n        vertical-align: middle;\n    }\n\n    .dataframe tbody tr th {\n        vertical-align: top;\n    }\n\n    .dataframe thead th {\n        text-align: right;\n    }\n</style>\n<table border=\"1\" class=\"dataframe\">\n  <thead>\n    <tr style=\"text-align: right;\">\n      <th></th>\n      <th>Neighborhood</th>\n      <th>Latitude</th>\n      <th>Longitude</th>\n      <th>Venue</th>\n      <th>Venue Latitude</th>\n      <th>Venue Longitude</th>\n      <th>Venue Category</th>\n    </tr>\n  </thead>\n  <tbody>\n    <tr>\n      <th>0</th>\n      <td>Marble Hill</td>\n      <td>40.876551</td>\n      <td>-73.91066</td>\n      <td>Arturo's</td>\n      <td>40.874412</td>\n      <td>-73.910271</td>\n      <td>Pizza Place</td>\n    </tr>\n    <tr>\n      <th>1</th>\n      <td>Marble Hill</td>\n      <td>40.876551</td>\n      <td>-73.91066</td>\n      <td>Bikram Yoga</td>\n      <td>40.876844</td>\n      <td>-73.906204</td>\n      <td>Yoga Studio</td>\n    </tr>\n    <tr>\n      <th>2</th>\n      <td>Marble Hill</td>\n      <td>40.876551</td>\n      <td>-73.91066</td>\n      <td>Tibbett Diner</td>\n      <td>40.880404</td>\n      <td>-73.908937</td>\n      <td>Diner</td>\n    </tr>\n    <tr>\n      <th>3</th>\n      <td>Marble Hill</td>\n      <td>40.876551</td>\n      <td>-73.91066</td>\n      <td>Dunkin'</td>\n      <td>40.877136</td>\n      <td>-73.906666</td>\n      <td>Donut Shop</td>\n    </tr>\n    <tr>\n      <th>4</th>\n      <td>Marble Hill</td>\n      <td>40.876551</td>\n      <td>-73.91066</td>\n      <td>Starbucks</td>\n      <td>40.877531</td>\n      <td>-73.905582</td>\n      <td>Coffee Shop</td>\n    </tr>\n  </tbody>\n</table>\n</div>",
                        "text/plain": "  Neighborhood   Latitude  Longitude          Venue  Venue Latitude  \\\n0  Marble Hill  40.876551  -73.91066       Arturo's       40.874412   \n1  Marble Hill  40.876551  -73.91066    Bikram Yoga       40.876844   \n2  Marble Hill  40.876551  -73.91066  Tibbett Diner       40.880404   \n3  Marble Hill  40.876551  -73.91066        Dunkin'       40.877136   \n4  Marble Hill  40.876551  -73.91066      Starbucks       40.877531   \n\n   Venue Longitude Venue Category  \n0       -73.910271    Pizza Place  \n1       -73.906204    Yoga Studio  \n2       -73.908937          Diner  \n3       -73.906666     Donut Shop  \n4       -73.905582    Coffee Shop  "
                    },
                    "execution_count": 99,
                    "metadata": {},
                    "output_type": "execute_result"
                }
            ],
            "source": "print(manhattan_venues.shape)\nprint(\"Unique Neighborhoods:\" , len(manhattan_data['Neighborhood'].unique()))\nmanhattan_venues.head()"
        },
        {
            "cell_type": "markdown",
            "metadata": {},
            "source": "## Select rows that have Coffee Shop as the Venue Category attribute"
        },
        {
            "cell_type": "code",
            "execution_count": 117,
            "metadata": {},
            "outputs": [
                {
                    "name": "stdout",
                    "output_type": "stream",
                    "text": "(146, 7)\n"
                },
                {
                    "data": {
                        "text/html": "<div>\n<style scoped>\n    .dataframe tbody tr th:only-of-type {\n        vertical-align: middle;\n    }\n\n    .dataframe tbody tr th {\n        vertical-align: top;\n    }\n\n    .dataframe thead th {\n        text-align: right;\n    }\n</style>\n<table border=\"1\" class=\"dataframe\">\n  <thead>\n    <tr style=\"text-align: right;\">\n      <th></th>\n      <th>Neighborhood</th>\n      <th>Latitude</th>\n      <th>Longitude</th>\n      <th>Venue</th>\n      <th>Venue Latitude</th>\n      <th>Venue Longitude</th>\n      <th>Venue Category</th>\n    </tr>\n  </thead>\n  <tbody>\n    <tr>\n      <th>4</th>\n      <td>Marble Hill</td>\n      <td>40.876551</td>\n      <td>-73.910660</td>\n      <td>Starbucks</td>\n      <td>40.877531</td>\n      <td>-73.905582</td>\n      <td>Coffee Shop</td>\n    </tr>\n    <tr>\n      <th>9</th>\n      <td>Marble Hill</td>\n      <td>40.876551</td>\n      <td>-73.910660</td>\n      <td>Starbucks</td>\n      <td>40.873755</td>\n      <td>-73.908613</td>\n      <td>Coffee Shop</td>\n    </tr>\n    <tr>\n      <th>21</th>\n      <td>Marble Hill</td>\n      <td>40.876551</td>\n      <td>-73.910660</td>\n      <td>Starbucks</td>\n      <td>40.873234</td>\n      <td>-73.908730</td>\n      <td>Coffee Shop</td>\n    </tr>\n    <tr>\n      <th>72</th>\n      <td>Chinatown</td>\n      <td>40.715618</td>\n      <td>-73.994279</td>\n      <td>Little Canal</td>\n      <td>40.714317</td>\n      <td>-73.990361</td>\n      <td>Coffee Shop</td>\n    </tr>\n    <tr>\n      <th>100</th>\n      <td>Chinatown</td>\n      <td>40.715618</td>\n      <td>-73.994279</td>\n      <td>Cafe Grumpy</td>\n      <td>40.715069</td>\n      <td>-73.989952</td>\n      <td>Coffee Shop</td>\n    </tr>\n  </tbody>\n</table>\n</div>",
                        "text/plain": "    Neighborhood   Latitude  Longitude         Venue  Venue Latitude  \\\n4    Marble Hill  40.876551 -73.910660     Starbucks       40.877531   \n9    Marble Hill  40.876551 -73.910660     Starbucks       40.873755   \n21   Marble Hill  40.876551 -73.910660     Starbucks       40.873234   \n72     Chinatown  40.715618 -73.994279  Little Canal       40.714317   \n100    Chinatown  40.715618 -73.994279   Cafe Grumpy       40.715069   \n\n     Venue Longitude Venue Category  \n4         -73.905582    Coffee Shop  \n9         -73.908613    Coffee Shop  \n21        -73.908730    Coffee Shop  \n72        -73.990361    Coffee Shop  \n100       -73.989952    Coffee Shop  "
                    },
                    "execution_count": 117,
                    "metadata": {},
                    "output_type": "execute_result"
                }
            ],
            "source": "selecteddf=manhattan_venues.loc[manhattan_venues['Venue Category']=='Coffee Shop']\n\nprint(selecteddf.shape)\nselecteddf.head()"
        },
        {
            "cell_type": "code",
            "execution_count": 118,
            "metadata": {},
            "outputs": [
                {
                    "name": "stdout",
                    "output_type": "stream",
                    "text": "(146, 2)\n"
                },
                {
                    "data": {
                        "text/html": "<div>\n<style scoped>\n    .dataframe tbody tr th:only-of-type {\n        vertical-align: middle;\n    }\n\n    .dataframe tbody tr th {\n        vertical-align: top;\n    }\n\n    .dataframe thead th {\n        text-align: right;\n    }\n</style>\n<table border=\"1\" class=\"dataframe\">\n  <thead>\n    <tr style=\"text-align: right;\">\n      <th></th>\n      <th>Neighborhood</th>\n      <th>Venue Category</th>\n    </tr>\n  </thead>\n  <tbody>\n    <tr>\n      <th>0</th>\n      <td>Marble Hill</td>\n      <td>Coffee Shop</td>\n    </tr>\n    <tr>\n      <th>1</th>\n      <td>Marble Hill</td>\n      <td>Coffee Shop</td>\n    </tr>\n    <tr>\n      <th>2</th>\n      <td>Marble Hill</td>\n      <td>Coffee Shop</td>\n    </tr>\n    <tr>\n      <th>3</th>\n      <td>Chinatown</td>\n      <td>Coffee Shop</td>\n    </tr>\n    <tr>\n      <th>4</th>\n      <td>Chinatown</td>\n      <td>Coffee Shop</td>\n    </tr>\n  </tbody>\n</table>\n</div>",
                        "text/plain": "  Neighborhood Venue Category\n0  Marble Hill    Coffee Shop\n1  Marble Hill    Coffee Shop\n2  Marble Hill    Coffee Shop\n3    Chinatown    Coffee Shop\n4    Chinatown    Coffee Shop"
                    },
                    "execution_count": 118,
                    "metadata": {},
                    "output_type": "execute_result"
                }
            ],
            "source": "coffeedf=selecteddf[['Neighborhood','Venue Category']]\ncoffeedf.reset_index(drop=True,inplace=True)\n\nprint(coffeedf.shape)\ncoffeedf.head()"
        },
        {
            "cell_type": "markdown",
            "metadata": {},
            "source": "## Count the number of Coffee Shop for EACH neighborhood"
        },
        {
            "cell_type": "code",
            "execution_count": 123,
            "metadata": {},
            "outputs": [
                {
                    "data": {
                        "text/html": "<div>\n<style scoped>\n    .dataframe tbody tr th:only-of-type {\n        vertical-align: middle;\n    }\n\n    .dataframe tbody tr th {\n        vertical-align: top;\n    }\n\n    .dataframe thead th {\n        text-align: right;\n    }\n</style>\n<table border=\"1\" class=\"dataframe\">\n  <thead>\n    <tr style=\"text-align: right;\">\n      <th></th>\n      <th>Venue Category</th>\n    </tr>\n    <tr>\n      <th>Neighborhood</th>\n      <th></th>\n    </tr>\n  </thead>\n  <tbody>\n    <tr>\n      <th>Battery Park City</th>\n      <td>4</td>\n    </tr>\n    <tr>\n      <th>Carnegie Hill</th>\n      <td>7</td>\n    </tr>\n    <tr>\n      <th>Chelsea</th>\n      <td>9</td>\n    </tr>\n    <tr>\n      <th>Chinatown</th>\n      <td>2</td>\n    </tr>\n    <tr>\n      <th>Civic Center</th>\n      <td>8</td>\n    </tr>\n    <tr>\n      <th>Clinton</th>\n      <td>4</td>\n    </tr>\n    <tr>\n      <th>East Village</th>\n      <td>3</td>\n    </tr>\n    <tr>\n      <th>Financial District</th>\n      <td>11</td>\n    </tr>\n    <tr>\n      <th>Flatiron</th>\n      <td>2</td>\n    </tr>\n    <tr>\n      <th>Gramercy</th>\n      <td>4</td>\n    </tr>\n  </tbody>\n</table>\n</div>",
                        "text/plain": "                    Venue Category\nNeighborhood                      \nBattery Park City                4\nCarnegie Hill                    7\nChelsea                          9\nChinatown                        2\nCivic Center                     8\nClinton                          4\nEast Village                     3\nFinancial District              11\nFlatiron                         2\nGramercy                         4"
                    },
                    "execution_count": 123,
                    "metadata": {},
                    "output_type": "execute_result"
                }
            ],
            "source": "countdf=coffeedf.groupby(['Neighborhood']).count()\ncountdf.head(10)"
        },
        {
            "cell_type": "markdown",
            "metadata": {},
            "source": "<a id='item3'></a>"
        },
        {
            "cell_type": "markdown",
            "metadata": {},
            "source": "## Find the neighborhood(s) which has highest number of bookstores: by sorting the dataframe using the Bookstore column"
        },
        {
            "cell_type": "code",
            "execution_count": 122,
            "metadata": {},
            "outputs": [
                {
                    "data": {
                        "text/html": "<div>\n<style scoped>\n    .dataframe tbody tr th:only-of-type {\n        vertical-align: middle;\n    }\n\n    .dataframe tbody tr th {\n        vertical-align: top;\n    }\n\n    .dataframe thead th {\n        text-align: right;\n    }\n</style>\n<table border=\"1\" class=\"dataframe\">\n  <thead>\n    <tr style=\"text-align: right;\">\n      <th></th>\n      <th>Venue Category</th>\n    </tr>\n    <tr>\n      <th>Neighborhood</th>\n      <th></th>\n    </tr>\n  </thead>\n  <tbody>\n    <tr>\n      <th>Financial District</th>\n      <td>11</td>\n    </tr>\n    <tr>\n      <th>Chelsea</th>\n      <td>9</td>\n    </tr>\n    <tr>\n      <th>Civic Center</th>\n      <td>8</td>\n    </tr>\n    <tr>\n      <th>Carnegie Hill</th>\n      <td>7</td>\n    </tr>\n    <tr>\n      <th>Lenox Hill</th>\n      <td>6</td>\n    </tr>\n    <tr>\n      <th>Midtown</th>\n      <td>6</td>\n    </tr>\n    <tr>\n      <th>Yorkville</th>\n      <td>5</td>\n    </tr>\n    <tr>\n      <th>Upper East Side</th>\n      <td>5</td>\n    </tr>\n    <tr>\n      <th>Turtle Bay</th>\n      <td>5</td>\n    </tr>\n    <tr>\n      <th>Sutton Place</th>\n      <td>5</td>\n    </tr>\n  </tbody>\n</table>\n</div>",
                        "text/plain": "                    Venue Category\nNeighborhood                      \nFinancial District              11\nChelsea                          9\nCivic Center                     8\nCarnegie Hill                    7\nLenox Hill                       6\nMidtown                          6\nYorkville                        5\nUpper East Side                  5\nTurtle Bay                       5\nSutton Place                     5"
                    },
                    "execution_count": 122,
                    "metadata": {},
                    "output_type": "execute_result"
                }
            ],
            "source": "finaldf=countdf.sort_values(by=['Venue Category'],ascending=False)\n\nfinaldf.head(10)"
        },
        {
            "cell_type": "markdown",
            "metadata": {},
            "source": "## RESULT:  From the dataframe above, we see Financial District as the neighborhood with the highest number of coffee shops. \n\n## We should go there and explore the area!"
        },
        {
            "cell_type": "code",
            "execution_count": null,
            "metadata": {},
            "outputs": [],
            "source": ""
        }
    ],
    "metadata": {
        "kernelspec": {
            "display_name": "Python",
            "language": "python",
            "name": "conda-env-python-py"
        },
        "language_info": {
            "codemirror_mode": {
                "name": "ipython",
                "version": 3
            },
            "file_extension": ".py",
            "mimetype": "text/x-python",
            "name": "python",
            "nbconvert_exporter": "python",
            "pygments_lexer": "ipython3",
            "version": "3.6.11"
        },
        "widgets": {
            "state": {},
            "version": "1.1.2"
        }
    },
    "nbformat": 4,
    "nbformat_minor": 4
}